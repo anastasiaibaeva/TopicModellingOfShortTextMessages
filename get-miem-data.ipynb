{
 "cells": [
  {
   "cell_type": "code",
   "execution_count": 14,
   "metadata": {},
   "outputs": [
    {
     "name": "stdout",
     "output_type": "stream",
     "text": [
      "Table created successfully\n"
     ]
    }
   ],
   "source": [
    "cur = con.cursor()\n",
    "cur.execute('''CREATE TABLE MIEM_PROJECTS_ARCHIVE  \n",
    "     (ID INT,\n",
    "     NUMBER INT,\n",
    "     VACANCIES INT,\n",
    "     NAME TEXT,\n",
    "     TYPE TEXT,\n",
    "     TYPEDESC TEXT,\n",
    "     TYPEID INT,\n",
    "     STATUSID INT,\n",
    "     DATACREATED TEXT,\n",
    "     FACULTYID INT);''')\n",
    "\n",
    "print(\"Table created successfully\")\n",
    "con.commit()"
   ]
  },
  {
   "cell_type": "code",
   "execution_count": 15,
   "metadata": {},
   "outputs": [
    {
     "data": {
      "text/plain": [
       "{'id': 209,\n",
       " 'owner': False,\n",
       " 'status': 'po_approved',\n",
       " 'statusDesc': 'В архиве',\n",
       " 'nameRus': 'Создание фрезерного станка для производства печатных плат',\n",
       " 'head': '',\n",
       " 'directionHead': '',\n",
       " 'type': 'soft',\n",
       " 'typeDesc': 'Прогр.',\n",
       " 'typeId': 2,\n",
       " 'statusId': 3,\n",
       " 'dateCreated': '11.05.2020 19:35:20',\n",
       " 'vacancies': 3,\n",
       " 'team': [],\n",
       " 'vacancyData': ['Проектировщик - 1', 'Механик - 1', 'Электронщик - 1'],\n",
       " 'number': None,\n",
       " 'desc': None,\n",
       " 'hoursCount': 0,\n",
       " 'facultyId': None,\n",
       " 'thumbnail': None}"
      ]
     },
     "execution_count": 15,
     "metadata": {},
     "output_type": "execute_result"
    }
   ],
   "source": [
    "import requests\n",
    "response = requests.get('https://devcabinet.miem.vmnet.top/public-api/projects/archive')\n",
    "posts = response.json()\n",
    "posts['data'][0]"
   ]
  },
  {
   "cell_type": "code",
   "execution_count": 16,
   "metadata": {},
   "outputs": [],
   "source": [
    "cur = con.cursor()\n",
    "for i in range(len(posts['data'])):\n",
    "    p1 = posts['data'][i]['id']\n",
    "    p2 = posts['data'][i]['number']\n",
    "    p3 = posts['data'][i]['vacancies']\n",
    "    p4 = posts['data'][i]['nameRus']\n",
    "    p5 = posts['data'][i]['type']\n",
    "    p6 = posts['data'][i]['typeDesc']\n",
    "    p7 = posts['data'][i]['typeId']\n",
    "    p8 = posts['data'][i]['statusId']\n",
    "    p9 = posts['data'][i]['dateCreated']\n",
    "    p10 = posts['data'][i]['facultyId']\n",
    "    cur.execute(\n",
    "      \"INSERT INTO MIEM_PROJECTS_ARCHIVE (ID,NUMBER,VACANCIES,NAME,TYPE,TYPEDESC,TYPEID,STATUSID,DATACREATED,FACULTYID) VALUES (%s,%s,%s,%s,%s,%s,%s,%s,%s,%s)\", (p1, p2, p3, p4, p5, p6, p7, p8, p9, p10)\n",
    "    )\n",
    "con.commit()"
   ]
  },
  {
   "cell_type": "code",
   "execution_count": 17,
   "metadata": {},
   "outputs": [],
   "source": [
    "cur = con.cursor()\n",
    "cur.execute('''CREATE TABLE MIEM_PROJECTS  \n",
    "     (ID INT,\n",
    "     NUMBER INT,\n",
    "     VACANCIES INT,\n",
    "     NAME TEXT,\n",
    "     TYPE TEXT,\n",
    "     TYPEDESC TEXT,\n",
    "     TYPEID INT,\n",
    "     STATUSID INT,\n",
    "     STATUSDESC TEXT,\n",
    "     DIRECTIONHEAD TEXT,\n",
    "     HEAD TEXT,\n",
    "     DATACREATED TEXT,\n",
    "     FACULTYID INT);''')\n",
    "con.commit()"
   ]
  },
  {
   "cell_type": "code",
   "execution_count": 21,
   "metadata": {},
   "outputs": [
    {
     "data": {
      "text/plain": [
       "{'id': 852,\n",
       " 'owner': False,\n",
       " 'status': 'control_passed',\n",
       " 'statusDesc': 'Готов к работе',\n",
       " 'nameRus': 'Приготовление квантовых состояний для систем квантового распределения ключей на лазерах с оптической инжекцией',\n",
       " 'head': 'Шаховой Роман',\n",
       " 'directionHead': '',\n",
       " 'type': 'nir',\n",
       " 'typeDesc': 'НИР',\n",
       " 'typeId': 1,\n",
       " 'statusId': 1,\n",
       " 'dateCreated': '10.08.2021 16:25:36',\n",
       " 'vacancies': 2,\n",
       " 'team': [],\n",
       " 'vacancyData': ['Младший научный сотрудник - 2'],\n",
       " 'number': None,\n",
       " 'desc': None,\n",
       " 'hoursCount': 0,\n",
       " 'facultyId': None,\n",
       " 'thumbnail': None}"
      ]
     },
     "execution_count": 21,
     "metadata": {},
     "output_type": "execute_result"
    }
   ],
   "source": [
    "response2 = requests.get('https://devcabinet.miem.vmnet.top/public-api/projects')\n",
    "posts2 = response2.json()\n",
    "posts2['data'][0]"
   ]
  },
  {
   "cell_type": "code",
   "execution_count": 22,
   "metadata": {},
   "outputs": [],
   "source": [
    "cur = con.cursor()\n",
    "for i in range(len(posts2['data'])):\n",
    "    p1 = posts2['data'][i]['id']\n",
    "    p2 = posts2['data'][i]['number']\n",
    "    p3 = posts2['data'][i]['vacancies']\n",
    "    p4 = posts2['data'][i]['nameRus']\n",
    "    p5 = posts2['data'][i]['type']\n",
    "    p6 = posts2['data'][i]['typeDesc']\n",
    "    p7 = posts2['data'][i]['typeId']\n",
    "    p8 = posts2['data'][i]['statusId']\n",
    "    p9 = posts2['data'][i]['statusDesc']\n",
    "    p10 = posts2['data'][i]['directionHead']\n",
    "    p11 = posts2['data'][i]['head']\n",
    "    p12 = posts2['data'][i]['dateCreated']\n",
    "    p13 = posts2['data'][i]['facultyId']\n",
    "    cur.execute(\n",
    "      \"INSERT INTO MIEM_PROJECTS (ID,NUMBER,VACANCIES,NAME,TYPE,TYPEDESC,TYPEID,STATUSID,STATUSDESC,DIRECTIONHEAD,HEAD,DATACREATED,FACULTYID) VALUES (%s,%s,%s,%s,%s,%s,%s,%s,%s,%s,%s,%s,%s)\", (p1, p2, p3, p4, p5, p6, p7, p8, p9, p10, p11, p12, p13)\n",
    "    )\n",
    "con.commit()\n",
    "con.close()"
   ]
  }
 ],
 "metadata": {
  "kernelspec": {
   "display_name": "Python 3",
   "language": "python",
   "name": "python3"
  },
  "language_info": {
   "codemirror_mode": {
    "name": "ipython",
    "version": 3
   },
   "file_extension": ".py",
   "mimetype": "text/x-python",
   "name": "python",
   "nbconvert_exporter": "python",
   "pygments_lexer": "ipython3",
   "version": "3.7.4"
  }
 },
 "nbformat": 4,
 "nbformat_minor": 2
}
